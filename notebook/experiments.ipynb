{
 "cells": [
  {
   "cell_type": "code",
   "execution_count": null,
   "id": "68ef072b",
   "metadata": {},
   "outputs": [],
   "source": [
    "from dotenv import load_dotenv"
   ]
  },
  {
   "cell_type": "code",
   "execution_count": null,
   "id": "2dce2941",
   "metadata": {},
   "outputs": [],
   "source": [
    "from langchain_groq import ChatGroq"
   ]
  },
  {
   "cell_type": "code",
   "execution_count": null,
   "id": "51c8ed29",
   "metadata": {},
   "outputs": [],
   "source": [
    "llm = ChatGroq(model=\"deepseek-r1-distill-llama-70b\")"
   ]
  },
  {
   "cell_type": "code",
   "execution_count": null,
   "id": "51c38907",
   "metadata": {},
   "outputs": [],
   "source": [
    "llm.invoke(\"hi\")"
   ]
  },
  {
   "cell_type": "code",
   "execution_count": 8,
   "id": "ef199fd1",
   "metadata": {},
   "outputs": [
    {
     "name": "stdout",
     "output_type": "stream",
     "text": [
      "[{'price': 57.36, 'carrier_id': '-32213', 'carrier_name': 'IndiGo', 'flight_number': '6814', 'origin': '10957', 'departure': '2025-10-17T07:00', 'destination': '10075', 'arrival': '2025-10-17T09:15'}, {'price': 57.36, 'carrier_id': '-32213', 'carrier_name': 'IndiGo', 'flight_number': '6814', 'origin': '10957', 'departure': '2025-10-17T07:00', 'destination': '10075', 'arrival': '2025-10-17T09:15'}, {'price': 57.36, 'carrier_id': '-32213', 'carrier_name': 'IndiGo', 'flight_number': '6814', 'origin': '10957', 'departure': '2025-10-17T07:00', 'destination': '10075', 'arrival': '2025-10-17T09:15'}, {'price': 57.36, 'carrier_id': '-32213', 'carrier_name': 'IndiGo', 'flight_number': '6814', 'origin': '10957', 'departure': '2025-10-17T07:00', 'destination': '10075', 'arrival': '2025-10-17T09:15'}, {'price': 57.36, 'carrier_id': '-32213', 'carrier_name': 'IndiGo', 'flight_number': '6814', 'origin': '10957', 'departure': '2025-10-17T07:00', 'destination': '10075', 'arrival': '2025-10-17T09:15'}]\n"
     ]
    }
   ],
   "source": [
    "import requests\n",
    "from pydantic import BaseModel\n",
    "from typing import Literal\n",
    "from dotenv import load_dotenv\n",
    "import os\n",
    "import json\n",
    "\n",
    "load_dotenv()\n",
    "\n",
    "class Flight(BaseModel):\n",
    "    departure_airport_code: str\n",
    "    arrival_airport_code: str\n",
    "    departure_date: str\n",
    "    cabin_class: Literal[\"Economy\", \"Business\", \"First\"]\n",
    "    number_of_adults: int\n",
    "    number_of_children: int\n",
    "\n",
    "class FlightChecker:\n",
    "    def __init__(self):\n",
    "        self.api_key = os.getenv(\"FLIGHT_API_KEY\")\n",
    "        self.url = \"https://api.flightapi.io/onewaytrip\"\n",
    "        \n",
    "    def check_flight_availability(self, flight: Flight):\n",
    "        response = requests.get(\n",
    "            f\"{self.url}/{self.api_key}/\"\n",
    "            f\"{flight.departure_airport_code}/\"\n",
    "            f\"{flight.arrival_airport_code}/\"\n",
    "            f\"{flight.departure_date}/\"\n",
    "            f\"{flight.number_of_adults}/\"\n",
    "            f\"{flight.number_of_children}/0/\"\n",
    "            f\"{flight.cabin_class}/USD\"\n",
    "        )\n",
    "\n",
    "        if response.status_code != 200:\n",
    "            return {\"error\": f\"API request failed with status {response.status_code}\"}\n",
    "\n",
    "        data = response.json()  # ✅ convert Response object into dict\n",
    "        flights_data = []\n",
    "\n",
    "        # Optional carriers mapping\n",
    "        carriers_map = {}\n",
    "        if \"carriers\" in data:\n",
    "            for carrier in data[\"carriers\"]:\n",
    "                carriers_map[carrier[\"id\"]] = carrier.get(\"name\", \"\")\n",
    "\n",
    "        # Extract itineraries\n",
    "        for itinerary in data.get(\"itineraries\", []):\n",
    "            cheapest_price = itinerary.get(\"cheapest_price\", {}).get(\"amount\", None)\n",
    "\n",
    "            for option in itinerary.get(\"pricing_options\", []):\n",
    "                for item in option.get(\"items\", []):\n",
    "                    url = item.get(\"url\", \"\")\n",
    "                    if \"flight|\" in url:\n",
    "                        parts = url.split(\"flight|\")[1:]\n",
    "                        for p in parts:\n",
    "                            flight_info = p.split(\"|\")\n",
    "                            if len(flight_info) >= 7:\n",
    "                                carrier_id = flight_info[0]\n",
    "                                flight_number = flight_info[1]\n",
    "                                origin = flight_info[2]\n",
    "                                departure = flight_info[3]\n",
    "                                destination = flight_info[4]\n",
    "                                arrival = flight_info[5]\n",
    "\n",
    "                                flights_data.append({\n",
    "                                    \"price\": cheapest_price,\n",
    "                                    \"carrier_id\": carrier_id,\n",
    "                                    \"carrier_name\": carriers_map.get(int(carrier_id), \"Unknown\"),\n",
    "                                    \"flight_number\": flight_number,\n",
    "                                    \"origin\": origin,\n",
    "                                    \"departure\": departure,\n",
    "                                    \"destination\": destination,\n",
    "                                    \"arrival\": arrival\n",
    "                                })\n",
    "                                \n",
    "\n",
    "        if not flights_data:\n",
    "            return []\n",
    "        \n",
    "        # Sort by price and return top 5\n",
    "        sorted_flights = sorted(flights_data, key=lambda x: x[\"price\"] if x[\"price\"] else float('inf'))\n",
    "        return sorted_flights[:5]\n",
    "\n",
    "\n",
    "        return minimum_price[:5]\n",
    "\n",
    "\n",
    "checker = FlightChecker()\n",
    "\n",
    "print(checker.check_flight_availability(\n",
    "    Flight(\n",
    "        departure_airport_code=\"DEL\",\n",
    "        arrival_airport_code=\"BOM\",\n",
    "        departure_date=\"2025-10-17\",\n",
    "        cabin_class=\"Economy\",\n",
    "        number_of_adults=1,\n",
    "        number_of_children=0\n",
    "    )\n",
    "))\n"
   ]
  },
  {
   "cell_type": "code",
   "execution_count": null,
   "id": "4aeff8c7",
   "metadata": {},
   "outputs": [],
   "source": []
  }
 ],
 "metadata": {
  "kernelspec": {
   "display_name": "venv",
   "language": "python",
   "name": "python3"
  },
  "language_info": {
   "codemirror_mode": {
    "name": "ipython",
    "version": 3
   },
   "file_extension": ".py",
   "mimetype": "text/x-python",
   "name": "python",
   "nbconvert_exporter": "python",
   "pygments_lexer": "ipython3",
   "version": "3.13.7"
  }
 },
 "nbformat": 4,
 "nbformat_minor": 5
}
